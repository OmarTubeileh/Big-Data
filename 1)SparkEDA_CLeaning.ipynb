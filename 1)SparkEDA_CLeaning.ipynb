{
 "cells": [
  {
   "cell_type": "code",
   "execution_count": 1,
   "id": "b6a26456-20d9-4b81-bbb5-5e940ae2acfc",
   "metadata": {},
   "outputs": [],
   "source": [
    "import findspark\n",
    "findspark.init()\n",
    "import pyspark\n",
    "from pyspark.sql import *"
   ]
  },
  {
   "cell_type": "code",
   "execution_count": 2,
   "id": "fca81ab7-9be5-40de-a4dc-f2738a9eb859",
   "metadata": {
    "scrolled": true
   },
   "outputs": [
    {
     "name": "stderr",
     "output_type": "stream",
     "text": [
      "24/06/22 18:33:20 WARN Utils: Your hostname, dsbda-vm resolves to a loopback address: 127.0.1.1; using 10.0.2.15 instead (on interface enp0s3)\n",
      "24/06/22 18:33:20 WARN Utils: Set SPARK_LOCAL_IP if you need to bind to another address\n",
      "Using Spark's default log4j profile: org/apache/spark/log4j-defaults.properties\n",
      "Setting default log level to \"WARN\".\n",
      "To adjust logging level use sc.setLogLevel(newLevel). For SparkR, use setLogLevel(newLevel).\n",
      "24/06/22 18:33:24 WARN NativeCodeLoader: Unable to load native-hadoop library for your platform... using builtin-java classes where applicable\n"
     ]
    }
   ],
   "source": [
    "sc = pyspark.SparkContext(appName=\"Bank Marketing\")\n",
    "spark = SparkSession(sc)"
   ]
  },
  {
   "cell_type": "code",
   "execution_count": 3,
   "id": "8b0c0513-01af-4030-bf4c-a86e7aa085d9",
   "metadata": {},
   "outputs": [
    {
     "name": "stderr",
     "output_type": "stream",
     "text": [
      "                                                                                \r"
     ]
    }
   ],
   "source": [
    "bank_df = spark.read.csv(\"bank-additional-balanced.csv\", inferSchema = True, header = True)"
   ]
  },
  {
   "cell_type": "code",
   "execution_count": 4,
   "id": "e3d4c9e5-4813-4fef-8b6b-6085af8e498c",
   "metadata": {},
   "outputs": [
    {
     "name": "stderr",
     "output_type": "stream",
     "text": [
      "                                                                                \r"
     ]
    },
    {
     "data": {
      "text/plain": [
       "Row(age=48, job='technician', marital='married', education='professional.course', default='yes', housing='no', loan='no', contact='cellular', month='aug', day_of_week='tue', duration=66, campaign=1, pdays=999, previous=0, poutcome='nonexistent', emp_var_rate=1.4, cons_price_idx=93.444, cons_conf_idx=-36.1, euribor3m=4.963, nr_employed=5228.1, y='no')"
      ]
     },
     "execution_count": 4,
     "metadata": {},
     "output_type": "execute_result"
    }
   ],
   "source": [
    "bank_df.head()"
   ]
  },
  {
   "cell_type": "code",
   "execution_count": 5,
   "id": "4c9b9c7b-0ec2-4626-9e84-6aa1e8f7103a",
   "metadata": {},
   "outputs": [
    {
     "name": "stdout",
     "output_type": "stream",
     "text": [
      "root\n",
      " |-- age: integer (nullable = true)\n",
      " |-- job: string (nullable = true)\n",
      " |-- marital: string (nullable = true)\n",
      " |-- education: string (nullable = true)\n",
      " |-- default: string (nullable = true)\n",
      " |-- housing: string (nullable = true)\n",
      " |-- loan: string (nullable = true)\n",
      " |-- contact: string (nullable = true)\n",
      " |-- month: string (nullable = true)\n",
      " |-- day_of_week: string (nullable = true)\n",
      " |-- duration: integer (nullable = true)\n",
      " |-- campaign: integer (nullable = true)\n",
      " |-- pdays: integer (nullable = true)\n",
      " |-- previous: integer (nullable = true)\n",
      " |-- poutcome: string (nullable = true)\n",
      " |-- emp_var_rate: double (nullable = true)\n",
      " |-- cons_price_idx: double (nullable = true)\n",
      " |-- cons_conf_idx: double (nullable = true)\n",
      " |-- euribor3m: double (nullable = true)\n",
      " |-- nr_employed: double (nullable = true)\n",
      " |-- y: string (nullable = true)\n",
      "\n"
     ]
    }
   ],
   "source": [
    "bank_df.printSchema()"
   ]
  },
  {
   "cell_type": "markdown",
   "id": "fb459387-3c54-4c95-9aa9-b56241382e11",
   "metadata": {},
   "source": [
    "Demographics:\n",
    " - age: Customer's age (numeric)\n",
    " - job: Type of job (categorical: 'admin.', 'services', …)\n",
    " - marital: Marital status (categorical: 'married', 'single', …)\n",
    " - education: Level of education (categorical: 'basic.4y', 'high.school', …)\n",
    "\n",
    "Past customer events:\n",
    " - default: Has credit in default? (categorical: 'no', 'unknown', …)\n",
    " - housing: Has housing loan? (categorical: 'no', 'yes', …)\n",
    " - loan: Has personal loan? (categorical: 'no', 'yes', …)\n",
    "\n",
    "Past direct marketing contacts:\n",
    " - contact: Contact communication type (categorical: 'cellular', 'telephone', …)\n",
    " - month: Last contact month of year (categorical: 'may', 'nov', …)\n",
    " - dayofweek: Last contact day of the week (categorical: 'mon', 'fri', …)\n",
    " - duration: Last contact duration, in seconds (numeric). Important note: If duration = 0 then y = 'no'.\n",
    "\n",
    "Campaign information:\n",
    " - campaign: Number of contacts performed during this campaign and for this client (numeric, includes the last contact)\n",
    " - pdays: Number of days that passed by after the client was last contacted from a previous campaign (numeric)\n",
    " - previous: Number of contacts performed before this campaign and for this client (numeric)\n",
    " - poutcome: Outcome of the previous marketing campaign (categorical: 'nonexistent', 'success', …)\n",
    "\n",
    "Socioeconomic factors:\n",
    " - emp.var.rate: Employment variation rate - quarterly indicator (numeric)\n",
    " - cons.price.idx: Consumer price index - monthly indicator (numeric)\n",
    " - cons.conf.idx: Consumer confidence index - monthly indicator (numeric)\n",
    " - euribor3m: Euribor 3 month rate - daily indicator (numeric)\n",
    " - nr.employed: Number of employees - quarterly indicator (numeric)"
   ]
  },
  {
   "cell_type": "code",
   "execution_count": 6,
   "id": "bedc81cd-12e8-45f7-aaf6-85afbd0f2c95",
   "metadata": {},
   "outputs": [
    {
     "data": {
      "text/plain": [
       "['age',\n",
       " 'job',\n",
       " 'marital',\n",
       " 'education',\n",
       " 'default',\n",
       " 'housing',\n",
       " 'loan',\n",
       " 'contact',\n",
       " 'month',\n",
       " 'day_of_week',\n",
       " 'duration',\n",
       " 'campaign',\n",
       " 'pdays',\n",
       " 'previous',\n",
       " 'poutcome',\n",
       " 'emp_var_rate',\n",
       " 'cons_price_idx',\n",
       " 'cons_conf_idx',\n",
       " 'euribor3m',\n",
       " 'nr_employed',\n",
       " 'y']"
      ]
     },
     "execution_count": 6,
     "metadata": {},
     "output_type": "execute_result"
    }
   ],
   "source": [
    "bank_df.columns"
   ]
  },
  {
   "cell_type": "code",
   "execution_count": 7,
   "id": "4b2f8cf4-b755-44bb-af56-e26c1a51f286",
   "metadata": {},
   "outputs": [
    {
     "name": "stdout",
     "output_type": "stream",
     "text": [
      "+---+-----------+-------+-------------------+-------+-------+----+---------+-----+-----------+--------+--------+-----+--------+-----------+------------+--------------+-------------+---------+-----------+---+\n",
      "|age|        job|marital|          education|default|housing|loan|  contact|month|day_of_week|duration|campaign|pdays|previous|   poutcome|emp_var_rate|cons_price_idx|cons_conf_idx|euribor3m|nr_employed|  y|\n",
      "+---+-----------+-------+-------------------+-------+-------+----+---------+-----+-----------+--------+--------+-----+--------+-----------+------------+--------------+-------------+---------+-----------+---+\n",
      "| 48| technician|married|professional.course|    yes|     no|  no| cellular|  aug|        tue|      66|       1|  999|       0|nonexistent|         1.4|        93.444|        -36.1|    4.963|     5228.1| no|\n",
      "| 42|     admin.|married|        high.school|     no|     no|  no| cellular|  nov|        mon|     651|       2|  999|       1|    failure|        -0.1|          93.2|        -42.0|    4.191|     5195.8|yes|\n",
      "| 71|     admin.|married|           basic.4y|     no|    yes| yes| cellular|  may|        fri|     466|       4|    3|       2|    success|        -1.8|        93.876|        -40.0|    0.684|     5008.7|yes|\n",
      "| 39|blue-collar|married|           basic.9y|     no|    yes|  no|telephone|  oct|        fri|     112|       1|  999|       0|nonexistent|        -0.1|        93.798|        -40.4|    4.918|     5195.8|yes|\n",
      "| 67|    retired|married|professional.course|     no|     no|  no|telephone|  oct|        mon|     270|       2|  999|       0|nonexistent|        -3.4|        92.431|        -26.9|    0.739|     5017.5| no|\n",
      "+---+-----------+-------+-------------------+-------+-------+----+---------+-----+-----------+--------+--------+-----+--------+-----------+------------+--------------+-------------+---------+-----------+---+\n",
      "only showing top 5 rows\n",
      "\n"
     ]
    }
   ],
   "source": [
    "bank_df.show(5)"
   ]
  },
  {
   "cell_type": "code",
   "execution_count": 8,
   "id": "d321f66f-efbc-4a1f-ac2a-c0a6f17e7053",
   "metadata": {},
   "outputs": [
    {
     "name": "stderr",
     "output_type": "stream",
     "text": [
      "                                                                                \r"
     ]
    },
    {
     "name": "stdout",
     "output_type": "stream",
     "text": [
      "+-------+-------+\n",
      "|summary|    job|\n",
      "+-------+-------+\n",
      "|  count|   4118|\n",
      "|   mean|   null|\n",
      "| stddev|   null|\n",
      "|    min| admin.|\n",
      "|    max|unknown|\n",
      "+-------+-------+\n",
      "\n"
     ]
    }
   ],
   "source": [
    "bank_df.describe('job').show()"
   ]
  },
  {
   "cell_type": "code",
   "execution_count": 9,
   "id": "27c15df1-fdce-4f73-912f-524c3e3c8350",
   "metadata": {},
   "outputs": [
    {
     "name": "stdout",
     "output_type": "stream",
     "text": [
      "+-------+------------------+\n",
      "|summary|               age|\n",
      "+-------+------------------+\n",
      "|  count|              4118|\n",
      "|   mean| 40.35016998542982|\n",
      "| stddev|11.965510460619482|\n",
      "|    min|                17|\n",
      "|    max|                98|\n",
      "+-------+------------------+\n",
      "\n"
     ]
    }
   ],
   "source": [
    "bank_df.describe('age').show()"
   ]
  },
  {
   "cell_type": "code",
   "execution_count": 10,
   "id": "7bf0f622-68e0-4a1e-b6ea-2a94b702acb8",
   "metadata": {},
   "outputs": [
    {
     "name": "stdout",
     "output_type": "stream",
     "text": [
      "+-------+------------------+\n",
      "|summary|          previous|\n",
      "+-------+------------------+\n",
      "|  count|              4118|\n",
      "|   mean|0.3166585721223895|\n",
      "| stddev|0.6985667032576548|\n",
      "|    min|                 0|\n",
      "|    max|                 6|\n",
      "+-------+------------------+\n",
      "\n"
     ]
    }
   ],
   "source": [
    "bank_df.describe('previous').show()"
   ]
  },
  {
   "cell_type": "code",
   "execution_count": 11,
   "id": "264af030-4ec9-4295-a7da-2e3e07863fc3",
   "metadata": {},
   "outputs": [
    {
     "name": "stdout",
     "output_type": "stream",
     "text": [
      "+-------------+-----+\n",
      "|          job|count|\n",
      "+-------------+-----+\n",
      "|   management|  292|\n",
      "|      retired|  268|\n",
      "|      unknown|   32|\n",
      "|self-employed|  129|\n",
      "|      student|  152|\n",
      "|  blue-collar|  770|\n",
      "| entrepreneur|  145|\n",
      "|       admin.| 1118|\n",
      "|   technician|  624|\n",
      "|     services|  378|\n",
      "|    housemaid|   96|\n",
      "|   unemployed|  114|\n",
      "+-------------+-----+\n",
      "\n",
      "+--------+-----+\n",
      "| marital|count|\n",
      "+--------+-----+\n",
      "| unknown|   12|\n",
      "|divorced|  427|\n",
      "| married| 2409|\n",
      "|  single| 1270|\n",
      "+--------+-----+\n",
      "\n",
      "+-------------------+-----+\n",
      "|          education|count|\n",
      "+-------------------+-----+\n",
      "|        high.school|  960|\n",
      "|            unknown|  199|\n",
      "|           basic.6y|  194|\n",
      "|professional.course|  500|\n",
      "|  university.degree| 1328|\n",
      "|         illiterate|    1|\n",
      "|           basic.4y|  404|\n",
      "|           basic.9y|  532|\n",
      "+-------------------+-----+\n",
      "\n",
      "+-------+-----+\n",
      "|default|count|\n",
      "+-------+-----+\n",
      "|unknown|  684|\n",
      "|     no| 3433|\n",
      "|    yes|    1|\n",
      "+-------+-----+\n",
      "\n",
      "+-------+-----+\n",
      "|housing|count|\n",
      "+-------+-----+\n",
      "|unknown|   88|\n",
      "|     no| 1855|\n",
      "|    yes| 2175|\n",
      "+-------+-----+\n",
      "\n",
      "+-------+-----+\n",
      "|   loan|count|\n",
      "+-------+-----+\n",
      "|unknown|   88|\n",
      "|     no| 3417|\n",
      "|    yes|  613|\n",
      "+-------+-----+\n",
      "\n",
      "+---------+-----+\n",
      "|  contact|count|\n",
      "+---------+-----+\n",
      "| cellular| 2984|\n",
      "|telephone| 1134|\n",
      "+---------+-----+\n",
      "\n",
      "+-----+-----+\n",
      "|month|count|\n",
      "+-----+-----+\n",
      "|  jun|  510|\n",
      "|  aug|  595|\n",
      "|  may| 1130|\n",
      "|  sep|  141|\n",
      "|  mar|  139|\n",
      "|  oct|  165|\n",
      "|  jul|  645|\n",
      "|  nov|  378|\n",
      "|  apr|  380|\n",
      "|  dec|   35|\n",
      "+-----+-----+\n",
      "\n",
      "+-----------+-----+\n",
      "|day_of_week|count|\n",
      "+-----------+-----+\n",
      "|        fri|  753|\n",
      "|        thu|  876|\n",
      "|        tue|  819|\n",
      "|        wed|  861|\n",
      "|        mon|  809|\n",
      "+-----------+-----+\n",
      "\n",
      "+-----------+-----+\n",
      "|   poutcome|count|\n",
      "+-----------+-----+\n",
      "|    success|  429|\n",
      "|    failure|  488|\n",
      "|nonexistent| 3201|\n",
      "+-----------+-----+\n",
      "\n"
     ]
    }
   ],
   "source": [
    "categorical_columns = ['job', 'marital', 'education', 'default', 'housing', 'loan', 'contact', 'month', 'day_of_week', 'poutcome']\n",
    "\n",
    "for column in categorical_columns:\n",
    "    bank_df.groupBy(column).count().show()"
   ]
  },
  {
   "cell_type": "code",
   "execution_count": 12,
   "id": "bb742c97-4b73-48a3-939c-923a490dc874",
   "metadata": {},
   "outputs": [
    {
     "name": "stdout",
     "output_type": "stream",
     "text": [
      "+-------------+-------------------+\n",
      "|          job|          education|\n",
      "+-------------+-------------------+\n",
      "|   technician|professional.course|\n",
      "|       admin.|        high.school|\n",
      "|       admin.|           basic.4y|\n",
      "|  blue-collar|           basic.9y|\n",
      "|      retired|professional.course|\n",
      "|       admin.|  university.degree|\n",
      "|   management|  university.degree|\n",
      "|  blue-collar|        high.school|\n",
      "|  blue-collar|           basic.4y|\n",
      "|     services|        high.school|\n",
      "|   management|  university.degree|\n",
      "|   technician|        high.school|\n",
      "|       admin.|        high.school|\n",
      "|   technician|  university.degree|\n",
      "|       admin.|  university.degree|\n",
      "|   technician|  university.degree|\n",
      "|       admin.|  university.degree|\n",
      "| entrepreneur|  university.degree|\n",
      "|       admin.|           basic.9y|\n",
      "|self-employed|  university.degree|\n",
      "+-------------+-------------------+\n",
      "only showing top 20 rows\n",
      "\n",
      "+-------------+-------------------+\n",
      "|          job|          education|\n",
      "+-------------+-------------------+\n",
      "|       admin.|  university.degree|\n",
      "|   technician|        high.school|\n",
      "|   management|        high.school|\n",
      "| entrepreneur|           basic.4y|\n",
      "|       admin.|           basic.9y|\n",
      "|      student|            unknown|\n",
      "|   management|           basic.9y|\n",
      "|   unemployed|           basic.4y|\n",
      "| entrepreneur|professional.course|\n",
      "|      student|           basic.9y|\n",
      "|      unknown|  university.degree|\n",
      "|self-employed|           basic.6y|\n",
      "|     services|           basic.4y|\n",
      "|  blue-collar|           basic.4y|\n",
      "|    housemaid|           basic.6y|\n",
      "|  blue-collar|  university.degree|\n",
      "|      unknown|            unknown|\n",
      "|   unemployed|           basic.6y|\n",
      "|      student|           basic.6y|\n",
      "|       admin.|professional.course|\n",
      "+-------------+-------------------+\n",
      "only showing top 20 rows\n",
      "\n"
     ]
    }
   ],
   "source": [
    "bank_df.select('job','education').show()\n",
    "bank_df.select('job','education').distinct().show()"
   ]
  },
  {
   "cell_type": "code",
   "execution_count": 13,
   "id": "00b0e5f6-486d-434e-85cd-42e2f1a8ee11",
   "metadata": {},
   "outputs": [
    {
     "name": "stdout",
     "output_type": "stream",
     "text": [
      "+---+-------+-------+-------------------+-------+-------+----+---------+-----+-----------+--------+--------+-----+--------+-----------+------------+--------------+-------------+---------+-----------+---+\n",
      "|age|    job|marital|          education|default|housing|loan|  contact|month|day_of_week|duration|campaign|pdays|previous|   poutcome|emp_var_rate|cons_price_idx|cons_conf_idx|euribor3m|nr_employed|  y|\n",
      "+---+-------+-------+-------------------+-------+-------+----+---------+-----+-----------+--------+--------+-----+--------+-----------+------------+--------------+-------------+---------+-----------+---+\n",
      "| 57|retired| single|           basic.4y|     no|    yes|  no|telephone|  jun|        thu|     107|       1|  999|       0|nonexistent|         1.4|        94.465|        -41.8|    4.961|     5228.1| no|\n",
      "| 65|retired| single|  university.degree|     no|     no|  no| cellular|  nov|        thu|     253|       1|  999|       2|    failure|        -3.4|        92.649|        -30.1|    0.714|     5017.5|yes|\n",
      "| 39|retired| single|           basic.6y|unknown|    yes|  no| cellular|  may|        wed|     466|       1|  999|       0|nonexistent|        -1.8|        92.893|        -46.2|    1.281|     5099.1| no|\n",
      "| 59|retired| single|professional.course|unknown|    yes|  no| cellular|  jul|        thu|     306|       1|  999|       0|nonexistent|         1.4|        93.918|        -42.7|    4.962|     5228.1| no|\n",
      "| 66|retired| single|           basic.4y|     no|    yes|  no| cellular|  nov|        tue|     525|       3|  999|       0|nonexistent|        -3.4|        92.649|        -30.1|    0.715|     5017.5|yes|\n",
      "| 86|retired| single|           basic.9y|unknown|     no|  no|telephone|  jun|        wed|     955|       1|  999|       0|nonexistent|        -1.7|        94.055|        -39.8|    0.767|     4991.6|yes|\n",
      "| 55|retired| single|  university.degree|unknown|     no|  no| cellular|  nov|        fri|    1199|       3|  999|       0|nonexistent|        -0.1|          93.2|        -42.0|    4.021|     5195.8| no|\n",
      "| 76|retired| single|           basic.4y|     no|     no|  no| cellular|  nov|        mon|     347|       4|    6|       1|    success|        -3.4|        92.649|        -30.1|    0.715|     5017.5|yes|\n",
      "| 58|retired| single|professional.course|     no|    yes|  no| cellular|  apr|        wed|    1288|       3|  999|       0|nonexistent|        -1.8|        93.075|        -47.1|    1.405|     5099.1|yes|\n",
      "+---+-------+-------+-------------------+-------+-------+----+---------+-----+-----------+--------+--------+-----+--------+-----------+------------+--------------+-------------+---------+-----------+---+\n",
      "\n"
     ]
    }
   ],
   "source": [
    "bank_df.filter(bank_df.job=='retired').count()\n",
    "#We can do also boolean conditions\n",
    "bank_df.filter((bank_df.job=='retired')&(bank_df.marital=='single')).show()"
   ]
  },
  {
   "cell_type": "code",
   "execution_count": 14,
   "id": "f2a45b0a-fd8a-4f6c-98a4-718d4c30a046",
   "metadata": {},
   "outputs": [
    {
     "name": "stdout",
     "output_type": "stream",
     "text": [
      "+---+-----------+--------+-------------------+-------+-------+-------+---------+-----+-----------+--------+--------+-----+--------+-----------+------------+--------------+-------------+---------+-----------+---+\n",
      "|age|        job| marital|          education|default|housing|   loan|  contact|month|day_of_week|duration|campaign|pdays|previous|   poutcome|emp_var_rate|cons_price_idx|cons_conf_idx|euribor3m|nr_employed|  y|\n",
      "+---+-----------+--------+-------------------+-------+-------+-------+---------+-----+-----------+--------+--------+-----+--------+-----------+------------+--------------+-------------+---------+-----------+---+\n",
      "| 48| technician| married|  university.degree|     no|     no|     no| cellular|  aug|        fri|     232|       1|  999|       0|nonexistent|         1.4|        93.444|        -36.1|    4.964|     5228.1| no|\n",
      "| 37| technician| married|professional.course|     no|     no|     no| cellular|  jul|        thu|      37|       8|  999|       0|nonexistent|         1.4|        93.918|        -42.7|    4.968|     5228.1| no|\n",
      "| 25| unemployed| married|        high.school|unknown|     no|     no| cellular|  jul|        fri|     120|      10|  999|       0|nonexistent|         1.4|        93.918|        -42.7|    4.963|     5228.1| no|\n",
      "| 51|blue-collar|  single|           basic.4y|unknown|    yes|     no|telephone|  jul|        wed|      70|       2|  999|       0|nonexistent|         1.4|        93.918|        -42.7|    4.963|     5228.1| no|\n",
      "| 31|   services| married|        high.school|unknown|    yes|     no|telephone|  jun|        tue|     170|       1|  999|       0|nonexistent|         1.4|        94.465|        -41.8|    4.864|     5228.1| no|\n",
      "| 37| technician|divorced|professional.course|unknown|    yes|     no| cellular|  jul|        mon|    1134|       5|  999|       0|nonexistent|         1.4|        93.918|        -42.7|     4.96|     5228.1|yes|\n",
      "| 35|     admin.| married|        high.school|unknown|     no|     no| cellular|  jul|        fri|     114|       1|  999|       0|nonexistent|         1.4|        93.918|        -42.7|    4.963|     5228.1| no|\n",
      "| 44|     admin.| married|           basic.9y|unknown|    yes|    yes| cellular|  aug|        thu|     452|       6|  999|       0|nonexistent|         1.4|        93.444|        -36.1|    4.962|     5228.1|yes|\n",
      "| 44|blue-collar| married|           basic.6y|unknown|     no|     no| cellular|  jul|        thu|     168|       1|  999|       0|nonexistent|         1.4|        93.918|        -42.7|    4.963|     5228.1| no|\n",
      "| 29|     admin.|  single|  university.degree|unknown|     no|     no| cellular|  aug|        fri|     521|       2|  999|       0|nonexistent|         1.4|        93.444|        -36.1|    4.966|     5228.1| no|\n",
      "| 36|     admin.| married|  university.degree|unknown|    yes|     no| cellular|  aug|        tue|     181|       3|  999|       0|nonexistent|         1.4|        93.444|        -36.1|    4.963|     5228.1| no|\n",
      "| 48|blue-collar| married|           basic.9y|     no|    yes|     no| cellular|  aug|        tue|     100|       2|  999|       0|nonexistent|         1.4|        93.444|        -36.1|    4.965|     5228.1| no|\n",
      "| 37| technician|divorced|professional.course|     no|unknown|unknown| cellular|  aug|        tue|     417|       1|  999|       0|nonexistent|         1.4|        93.444|        -36.1|    4.965|     5228.1| no|\n",
      "| 31| technician|  single|        high.school|     no|     no|     no| cellular|  aug|        wed|    1033|       3|  999|       0|nonexistent|         1.4|        93.444|        -36.1|    4.964|     5228.1|yes|\n",
      "| 29|     admin.|  single|  university.degree|unknown|    yes|     no| cellular|  aug|        mon|     129|       3|  999|       0|nonexistent|         1.4|        93.444|        -36.1|    4.965|     5228.1| no|\n",
      "| 35|     admin.| married|  university.degree|     no|     no|     no| cellular|  jul|        wed|     695|       2|  999|       0|nonexistent|         1.4|        93.918|        -42.7|    4.963|     5228.1|yes|\n",
      "| 53| management| married|  university.degree|     no|    yes|     no|telephone|  jul|        fri|     199|       1|  999|       0|nonexistent|         1.4|        93.918|        -42.7|    4.962|     5228.1| no|\n",
      "| 28|     admin.|  single|  university.degree|     no|    yes|     no|telephone|  jun|        wed|     249|       5|  999|       0|nonexistent|         1.4|        94.465|        -41.8|    4.962|     5228.1| no|\n",
      "| 24|   services|  single|        high.school|     no|     no|     no|telephone|  jun|        mon|     700|       1|  999|       0|nonexistent|         1.4|        94.465|        -41.8|    4.961|     5228.1|yes|\n",
      "| 40| technician|  single|  university.degree|     no|    yes|     no| cellular|  aug|        fri|     117|       2|  999|       0|nonexistent|         1.4|        93.444|        -36.1|    4.966|     5228.1| no|\n",
      "+---+-----------+--------+-------------------+-------+-------+-------+---------+-----+-----------+--------+--------+-----+--------+-----------+------------+--------------+-------------+---------+-----------+---+\n",
      "only showing top 20 rows\n",
      "\n"
     ]
    }
   ],
   "source": [
    "bank_df.orderBy(bank_df.emp_var_rate.desc()).show()"
   ]
  },
  {
   "cell_type": "code",
   "execution_count": 15,
   "id": "3cb223b6-8939-406a-abbd-e6b901ff9e3a",
   "metadata": {},
   "outputs": [
    {
     "name": "stdout",
     "output_type": "stream",
     "text": [
      "+-----------+-------------------+---+-----+\n",
      "|        job|          education|  y|count|\n",
      "+-----------+-------------------+---+-----+\n",
      "|     admin.|           basic.4y| no|    4|\n",
      "|     admin.|           basic.4y|yes|    5|\n",
      "|     admin.|           basic.6y| no|    8|\n",
      "|     admin.|           basic.9y| no|   21|\n",
      "|     admin.|           basic.9y|yes|   20|\n",
      "|     admin.|        high.school|yes|  160|\n",
      "|     admin.|        high.school| no|  178|\n",
      "|     admin.|professional.course| no|   18|\n",
      "|     admin.|professional.course|yes|   17|\n",
      "|     admin.|  university.degree| no|  292|\n",
      "|     admin.|  university.degree|yes|  371|\n",
      "|     admin.|            unknown| no|   10|\n",
      "|     admin.|            unknown|yes|   14|\n",
      "|blue-collar|           basic.4y|yes|   58|\n",
      "|blue-collar|           basic.4y| no|  125|\n",
      "|blue-collar|           basic.6y|yes|   38|\n",
      "|blue-collar|           basic.6y| no|   73|\n",
      "|blue-collar|           basic.9y|yes|  114|\n",
      "|blue-collar|           basic.9y| no|  174|\n",
      "|blue-collar|        high.school|yes|   48|\n",
      "+-----------+-------------------+---+-----+\n",
      "only showing top 20 rows\n",
      "\n"
     ]
    }
   ],
   "source": [
    "row_count = bank_df.count()\n",
    "job_df = bank_df.groupby(\"job\",\"education\",\"y\")\n",
    "job_df.count().orderBy(bank_df.job.asc(),bank_df.education.asc()).show() #row_count,truncate = False"
   ]
  },
  {
   "cell_type": "code",
   "execution_count": 16,
   "id": "bd71e5e0-dc08-4172-b330-54ddba9e2da3",
   "metadata": {},
   "outputs": [
    {
     "name": "stderr",
     "output_type": "stream",
     "text": [
      "                                                                                \r"
     ]
    },
    {
     "name": "stdout",
     "output_type": "stream",
     "text": [
      "+--------+---+-----+\n",
      "|duration|  y|count|\n",
      "+--------+---+-----+\n",
      "|       4| no|    2|\n",
      "|       5| no|    1|\n",
      "|       6| no|    1|\n",
      "|       7| no|    3|\n",
      "|       8| no|    3|\n",
      "|       9| no|    3|\n",
      "|      10| no|    6|\n",
      "|      11| no|    3|\n",
      "|      12| no|    3|\n",
      "|      13| no|    6|\n",
      "|      14| no|    4|\n",
      "|      15| no|    3|\n",
      "|      16| no|    3|\n",
      "|      17| no|    3|\n",
      "|      18| no|    4|\n",
      "|      19| no|    3|\n",
      "|      20| no|    7|\n",
      "|      21| no|    4|\n",
      "|      22| no|    5|\n",
      "|      23| no|    3|\n",
      "+--------+---+-----+\n",
      "only showing top 20 rows\n",
      "\n"
     ]
    }
   ],
   "source": [
    "dur_df = bank_df.groupBy(\"duration\",\"y\")\n",
    "dur_df.count().orderBy(bank_df.duration.asc()).show()"
   ]
  },
  {
   "cell_type": "code",
   "execution_count": 17,
   "id": "45954122-88aa-4046-acae-d686af801ae9",
   "metadata": {},
   "outputs": [
    {
     "name": "stdout",
     "output_type": "stream",
     "text": [
      "+-----------+---+-----+\n",
      "|   poutcome|  y|count|\n",
      "+-----------+---+-----+\n",
      "|    failure|yes|  270|\n",
      "|    failure| no|  218|\n",
      "|nonexistent|yes| 1390|\n",
      "|nonexistent| no| 1811|\n",
      "|    success| no|   30|\n",
      "|    success|yes|  399|\n",
      "+-----------+---+-----+\n",
      "\n"
     ]
    }
   ],
   "source": [
    "row_count = bank_df.count()\n",
    "pout_df = bank_df.groupBy(\"poutcome\",\"y\")\n",
    "pout_df.count().orderBy(bank_df.poutcome.asc()).show()"
   ]
  },
  {
   "cell_type": "code",
   "execution_count": 18,
   "id": "b7c92021-0033-4eac-a97b-3eb027eaba6f",
   "metadata": {},
   "outputs": [],
   "source": [
    "import pandas as pd\n",
    "\n",
    "# Load the dataset\n",
    "data = pd.read_csv('bank-additional-balanced.csv', delimiter=',')"
   ]
  },
  {
   "cell_type": "code",
   "execution_count": 19,
   "id": "e2a5112c-d14e-4038-9773-0267e7dfa2fc",
   "metadata": {},
   "outputs": [
    {
     "name": "stdout",
     "output_type": "stream",
     "text": [
      "+--------+---+-----+\n",
      "|previous|  y|count|\n",
      "+--------+---+-----+\n",
      "|       0|yes| 1390|\n",
      "|       0| no| 1811|\n",
      "|       1|yes|  431|\n",
      "|       1| no|  224|\n",
      "|       2| no|   18|\n",
      "|       2|yes|  155|\n",
      "|       3| no|    4|\n",
      "|       3|yes|   59|\n",
      "|       4| no|    1|\n",
      "|       4|yes|   16|\n",
      "|       5|yes|    8|\n",
      "|       6| no|    1|\n",
      "+--------+---+-----+\n",
      "\n"
     ]
    }
   ],
   "source": [
    "prv_df = bank_df.groupBy(\"previous\",\"y\")\n",
    "prv_df.count().orderBy(bank_df.previous.asc()).show()"
   ]
  },
  {
   "cell_type": "code",
   "execution_count": 20,
   "id": "accef207-a27e-4775-b75b-306a2c52c1e4",
   "metadata": {},
   "outputs": [
    {
     "data": {
      "image/png": "[encoded data removed]",
      "text/plain": [
       "<Figure size 600x600 with 1 Axes>"
      ]
     },
     "metadata": {},
     "output_type": "display_data"
    }
   ],
   "source": [
    "import matplotlib.pyplot as plt\n",
    "import seaborn as sns\n",
    "\n",
    "# filtered_data = data[data['poutcome'] == 'success']\n",
    "# plt.figure(figsize=(6, 6))\n",
    "# sns.countplot(data=filtered_data, x='poutcome', hue='y')\n",
    "# plt.title('Poutcome vs Y')\n",
    "# plt.show()\n",
    "\n",
    "# filtered_data = data[data['pdays'] == 999]\n",
    "# plt.figure(figsize=(6, 6))\n",
    "# sns.countplot(data=filtered_data, x='pdays', hue='y')\n",
    "# plt.title('Pdays vs Y')\n",
    "# plt.show()\n",
    "\n",
    "plt.figure(figsize=(6, 6))\n",
    "sns.countplot(data, x='previous', hue='y')\n",
    "plt.title('Previous vs Y')\n",
    "plt.show()"
   ]
  },
  {
   "cell_type": "markdown",
   "id": "51d8889e-0604-4bcb-ade4-30a2a2c36f54",
   "metadata": {},
   "source": [
    "------------------------------------------------------------------------------------"
   ]
  },
  {
   "cell_type": "markdown",
   "id": "ca8abd51-bab6-45a1-bd41-db0e246eebd2",
   "metadata": {},
   "source": [
    "Data Cleaning"
   ]
  },
  {
   "cell_type": "code",
   "execution_count": 21,
   "id": "26ded42b-1a0b-4146-b6d6-55cfbdc012a8",
   "metadata": {},
   "outputs": [],
   "source": [
    "# changing yes/no to 1/0\n",
    "from pyspark.sql.functions import when\n",
    "\n",
    "bank_df = bank_df.withColumn(\"y\", when(bank_df.y == \"yes\", 1).when(bank_df.y == \"no\", 0))"
   ]
  },
  {
   "cell_type": "code",
   "execution_count": 22,
   "id": "e717490c-08ce-4b08-b28f-7fae229d4ebb",
   "metadata": {},
   "outputs": [
    {
     "name": "stdout",
     "output_type": "stream",
     "text": [
      "+---+-----------+-------+-------------------+-------+-------+----+---------+-----+-----------+--------+--------+-----+--------+-----------+------------+--------------+-------------+---------+-----------+---+\n",
      "|age|        job|marital|          education|default|housing|loan|  contact|month|day_of_week|duration|campaign|pdays|previous|   poutcome|emp_var_rate|cons_price_idx|cons_conf_idx|euribor3m|nr_employed|  y|\n",
      "+---+-----------+-------+-------------------+-------+-------+----+---------+-----+-----------+--------+--------+-----+--------+-----------+------------+--------------+-------------+---------+-----------+---+\n",
      "| 48| technician|married|professional.course|    yes|     no|  no| cellular|  aug|        tue|      66|       1|  999|       0|nonexistent|         1.4|        93.444|        -36.1|    4.963|     5228.1|  0|\n",
      "| 42|     admin.|married|        high.school|     no|     no|  no| cellular|  nov|        mon|     651|       2|  999|       1|    failure|        -0.1|          93.2|        -42.0|    4.191|     5195.8|  1|\n",
      "| 71|     admin.|married|           basic.4y|     no|    yes| yes| cellular|  may|        fri|     466|       4|    3|       2|    success|        -1.8|        93.876|        -40.0|    0.684|     5008.7|  1|\n",
      "| 39|blue-collar|married|           basic.9y|     no|    yes|  no|telephone|  oct|        fri|     112|       1|  999|       0|nonexistent|        -0.1|        93.798|        -40.4|    4.918|     5195.8|  1|\n",
      "| 67|    retired|married|professional.course|     no|     no|  no|telephone|  oct|        mon|     270|       2|  999|       0|nonexistent|        -3.4|        92.431|        -26.9|    0.739|     5017.5|  0|\n",
      "+---+-----------+-------+-------------------+-------+-------+----+---------+-----+-----------+--------+--------+-----+--------+-----------+------------+--------------+-------------+---------+-----------+---+\n",
      "only showing top 5 rows\n",
      "\n"
     ]
    }
   ],
   "source": [
    "bank_df.show(5)"
   ]
  },
  {
   "cell_type": "code",
   "execution_count": 23,
   "id": "8de750c7-39b0-4553-89cb-06599cc5b376",
   "metadata": {},
   "outputs": [
    {
     "name": "stdout",
     "output_type": "stream",
     "text": [
      "Columns containing 'unknown': ['job', 'marital', 'education', 'default', 'housing', 'loan']\n"
     ]
    }
   ],
   "source": [
    "#checking which columns contain \"unknown\" value to change them\n",
    "from pyspark.sql.functions import col\n",
    "\n",
    "def find_unknown_columns(df):\n",
    "    unknown_columns = []\n",
    "    for column in df.columns:\n",
    "        if df.filter(col(column) == \"unknown\").count() > 0:\n",
    "            unknown_columns.append(column)\n",
    "    return unknown_columns\n",
    "\n",
    "# Find columns with \"unknown\"\n",
    "unknown_columns = find_unknown_columns(bank_df)\n",
    "\n",
    "print(\"Columns containing 'unknown':\", unknown_columns)"
   ]
  },
  {
   "cell_type": "code",
   "execution_count": 24,
   "id": "33ba7876-9caa-4ac4-8292-d10d221cf845",
   "metadata": {},
   "outputs": [],
   "source": [
    "# job: unknown -> other\n",
    "bank_df = bank_df.withColumn(\"job\", when(col(\"job\") == \"unknown\", \"other\").otherwise(col(\"job\")))\n",
    "\n",
    "# education: unknown -> none\n",
    "bank_df = bank_df.withColumn(\"education\", when(col(\"education\") == \"unknown\", \"none\").otherwise(col(\"education\")))\n",
    "\n",
    "# marital: unknown -> single\n",
    "bank_df = bank_df.withColumn(\"marital\", when(col(\"marital\") == \"unknown\", \"single\").otherwise(col(\"marital\")))\n",
    "\n",
    "# housing: unknown -> no\n",
    "bank_df = bank_df.withColumn(\"housing\", when(col(\"housing\") == \"unknown\", \"no\").otherwise(col(\"housing\")))\n",
    "\n",
    "# loan: unknown -> no\n",
    "bank_df = bank_df.withColumn(\"loan\", when(col(\"loan\") == \"unknown\", \"no\").otherwise(col(\"loan\")))"
   ]
  },
  {
   "cell_type": "code",
   "execution_count": 25,
   "id": "3e71358b-19ae-41b9-bc1a-7b13f2ce42c4",
   "metadata": {},
   "outputs": [],
   "source": [
    "# droping the column \"default\" because it has no meaning \n",
    "bank_df = bank_df.drop(\"default\")"
   ]
  },
  {
   "cell_type": "code",
   "execution_count": 26,
   "id": "3720b371-f473-4d4e-8d50-e2c7ac60b44c",
   "metadata": {},
   "outputs": [
    {
     "data": {
      "text/plain": [
       "['age',\n",
       " 'job',\n",
       " 'marital',\n",
       " 'education',\n",
       " 'housing',\n",
       " 'loan',\n",
       " 'contact',\n",
       " 'month',\n",
       " 'day_of_week',\n",
       " 'duration',\n",
       " 'campaign',\n",
       " 'pdays',\n",
       " 'previous',\n",
       " 'poutcome',\n",
       " 'emp_var_rate',\n",
       " 'cons_price_idx',\n",
       " 'cons_conf_idx',\n",
       " 'euribor3m',\n",
       " 'nr_employed',\n",
       " 'y']"
      ]
     },
     "execution_count": 26,
     "metadata": {},
     "output_type": "execute_result"
    }
   ],
   "source": [
    "bank_df.columns"
   ]
  },
  {
   "cell_type": "code",
   "execution_count": 27,
   "id": "8c9cc268-5eb2-41fa-a5f5-49b6bc122527",
   "metadata": {},
   "outputs": [
    {
     "name": "stdout",
     "output_type": "stream",
     "text": [
      "Columns containing 'unknown': []\n"
     ]
    }
   ],
   "source": [
    "#cheacking if there are no unknows anymore\n",
    "unknown_columns = find_unknown_columns(bank_df)\n",
    "print(\"Columns containing 'unknown':\", unknown_columns)"
   ]
  },
  {
   "cell_type": "markdown",
   "id": "7ede15f8-1e6b-4a9f-8fb6-d8dc46458b27",
   "metadata": {},
   "source": [
    "Now we have our dataset ready to move to HDFS for mapReduce job"
   ]
  },
  {
   "cell_type": "code",
   "execution_count": 29,
   "id": "3780b0ee-1bba-4e0c-baeb-ade17c0dc9f5",
   "metadata": {},
   "outputs": [
    {
     "name": "stderr",
     "output_type": "stream",
     "text": [
      "                                                                                \r"
     ]
    }
   ],
   "source": [
    "bank_df.write.save('hdfs://localhost:54310/finalDSBD/', format='csv', mode='append')"
   ]
  },
  {
   "cell_type": "code",
   "execution_count": 30,
   "id": "0ca405a8-cef1-4968-b6a8-8878da987791",
   "metadata": {},
   "outputs": [],
   "source": [
    "sc.stop()"
   ]
  },
  {
   "cell_type": "code",
   "execution_count": null,
   "id": "990e8543-672d-4262-9031-ace6049fb37d",
   "metadata": {},
   "outputs": [],
   "source": []
  }
 ],
 "metadata": {
  "kernelspec": {
   "display_name": "Python 3 (ipykernel)",
   "language": "python",
   "name": "python3"
  },
  "language_info": {
   "codemirror_mode": {
    "name": "ipython",
    "version": 3
   },
   "file_extension": ".py",
   "mimetype": "text/x-python",
   "name": "python",
   "nbconvert_exporter": "python",
   "pygments_lexer": "ipython3",
   "version": "3.8.10"
  }
 },
 "nbformat": 4,
 "nbformat_minor": 5
}
